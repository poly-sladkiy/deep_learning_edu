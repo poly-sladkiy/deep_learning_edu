{
 "cells": [
  {
   "cell_type": "code",
   "execution_count": 1,
   "metadata": {},
   "outputs": [
    {
     "name": "stderr",
     "output_type": "stream",
     "text": [
      "Using TensorFlow backend.\n"
     ]
    }
   ],
   "source": [
    "from keras import layers\n",
    "from keras import models"
   ]
  },
  {
   "cell_type": "code",
   "execution_count": 2,
   "metadata": {},
   "outputs": [
    {
     "name": "stdout",
     "output_type": "stream",
     "text": [
      "Model: \"sequential_1\"\n",
      "_________________________________________________________________\n",
      "Layer (type)                 Output Shape              Param #   \n",
      "=================================================================\n",
      "conv2d_1 (Conv2D)            (None, 148, 148, 32)      896       \n",
      "_________________________________________________________________\n",
      "max_pooling2d_1 (MaxPooling2 (None, 74, 74, 32)        0         \n",
      "_________________________________________________________________\n",
      "conv2d_2 (Conv2D)            (None, 72, 72, 64)        18496     \n",
      "_________________________________________________________________\n",
      "max_pooling2d_2 (MaxPooling2 (None, 36, 36, 64)        0         \n",
      "_________________________________________________________________\n",
      "conv2d_3 (Conv2D)            (None, 34, 34, 128)       73856     \n",
      "_________________________________________________________________\n",
      "max_pooling2d_3 (MaxPooling2 (None, 17, 17, 128)       0         \n",
      "_________________________________________________________________\n",
      "conv2d_4 (Conv2D)            (None, 15, 15, 128)       147584    \n",
      "_________________________________________________________________\n",
      "max_pooling2d_4 (MaxPooling2 (None, 7, 7, 128)         0         \n",
      "_________________________________________________________________\n",
      "flatten_1 (Flatten)          (None, 6272)              0         \n",
      "_________________________________________________________________\n",
      "dense_1 (Dense)              (None, 512)               3211776   \n",
      "_________________________________________________________________\n",
      "dense_2 (Dense)              (None, 1)                 513       \n",
      "=================================================================\n",
      "Total params: 3,453,121\n",
      "Trainable params: 3,453,121\n",
      "Non-trainable params: 0\n",
      "_________________________________________________________________\n"
     ]
    }
   ],
   "source": [
    "model = models.Sequential()\n",
    "\n",
    "model.add(layers.Conv2D(32, (3, 3),\n",
    "          activation='relu',\n",
    "          input_shape=(150, 150, 3)))\n",
    "\n",
    "model.add(layers.MaxPooling2D((2, 2)))\n",
    "model.add(layers.Conv2D(64, (3, 3), activation='relu'))\n",
    "model.add(layers.MaxPooling2D((2, 2)))\n",
    "model.add(layers.Conv2D(128, (3, 3), activation='relu'))\n",
    "model.add(layers.MaxPooling2D((2, 2)))\n",
    "model.add(layers.Conv2D(128, (3, 3), activation='relu'))\n",
    "model.add(layers.MaxPooling2D((2, 2)))\n",
    "\n",
    "model.add(layers.Flatten())\n",
    "model.add(layers.Dense(512, activation='relu'))\n",
    "model.add(layers.Dense(1, activation='sigmoid'))\n",
    "\n",
    "model.summary()"
   ]
  },
  {
   "cell_type": "code",
   "execution_count": 3,
   "metadata": {},
   "outputs": [],
   "source": [
    "from keras import optimizers\n",
    "\n",
    "model.compile(loss='binary_crossentropy',\n",
    "             optimizer=optimizers.RMSprop(lr=1e-4),\n",
    "             metrics=['acc'])"
   ]
  },
  {
   "cell_type": "code",
   "execution_count": 4,
   "metadata": {},
   "outputs": [],
   "source": [
    "# Директории\n",
    "import os\n",
    "\n",
    "BASE_DIR = '/Users/admin/Documents/Learn python/deep_learning_edu/Chapter 5/cats_and_dogs_small'\n",
    "\n",
    "TRAIN_DIR = os.path.join(BASE_DIR, 'train/')\n",
    "VALIDATION_DIR = os.path.join(BASE_DIR, 'validation/')\n",
    "TEST_DIR = os.path.join(BASE_DIR, 'test/')\n",
    "\n",
    "TRAIN_CATS_DIR = os.path.join(TRAIN_DIR, 'cats')\n",
    "TRAIN_DOGS_DIR = os.path.join(TRAIN_DIR, 'dogs')\n",
    "\n",
    "VALIDATION_CATS_DIR = os.path.join(VALIDATION_DIR, 'cats')\n",
    "VALIDATION_DOGS_DIR = os.path.join(VALIDATION_DIR, 'dogs')\n",
    "\n",
    "TEST_CATS_DIR = os.path.join(TEST_DIR, 'cats')\n",
    "TEST_DOGS_DIR = os.path.join(TEST_DIR, 'dogs')"
   ]
  },
  {
   "cell_type": "code",
   "execution_count": 5,
   "metadata": {},
   "outputs": [
    {
     "name": "stdout",
     "output_type": "stream",
     "text": [
      "Found 2000 images belonging to 2 classes.\n",
      "Found 1000 images belonging to 2 classes.\n"
     ]
    }
   ],
   "source": [
    "# Подготовка изображений перед загрузкой в сеть\n",
    "from keras.preprocessing.image import ImageDataGenerator\n",
    "\n",
    "# Масштабировать значения с коэффициентом 1/255\n",
    "train_datagen = ImageDataGenerator(rescale=1./255)\n",
    "test_datagen = ImageDataGenerator(rescale=1.255)\n",
    "\n",
    "train_generator = train_datagen.flow_from_directory(\n",
    "    TRAIN_DIR,\n",
    "    target_size=(150, 150), # Привести к размеру\n",
    "    batch_size=20,\n",
    "    class_mode='binary') # тк используется binary_crossentropy\n",
    "\n",
    "validation_generator = test_datagen.flow_from_directory(\n",
    "    VALIDATION_DIR,\n",
    "    target_size=(150,150),\n",
    "    batch_size=20,\n",
    "    class_mode='binary')"
   ]
  },
  {
   "cell_type": "code",
   "execution_count": 6,
   "metadata": {},
   "outputs": [
    {
     "name": "stdout",
     "output_type": "stream",
     "text": [
      "Epoch 1/30\n",
      "100/100 [==============================] - 68s 679ms/step - loss: 0.6961 - acc: 0.5255 - val_loss: 20.5053 - val_acc: 0.5500\n",
      "Epoch 2/30\n",
      "100/100 [==============================] - 72s 721ms/step - loss: 0.6524 - acc: 0.6260 - val_loss: 94.2914 - val_acc: 0.5670\n",
      "Epoch 3/30\n",
      "100/100 [==============================] - 70s 705ms/step - loss: 0.6050 - acc: 0.6800 - val_loss: 99.0486 - val_acc: 0.6280\n",
      "Epoch 4/30\n",
      "100/100 [==============================] - 71s 711ms/step - loss: 0.5610 - acc: 0.7070 - val_loss: 66.2360 - val_acc: 0.6700\n",
      "Epoch 5/30\n",
      "100/100 [==============================] - 72s 716ms/step - loss: 0.5382 - acc: 0.7305 - val_loss: 21.2857 - val_acc: 0.6850\n",
      "Epoch 6/30\n",
      "100/100 [==============================] - 71s 713ms/step - loss: 0.5143 - acc: 0.7375 - val_loss: 102.4860 - val_acc: 0.6660\n",
      "Epoch 7/30\n",
      "100/100 [==============================] - 71s 714ms/step - loss: 0.4775 - acc: 0.7785 - val_loss: 214.5420 - val_acc: 0.6800\n",
      "Epoch 8/30\n",
      "100/100 [==============================] - 73s 733ms/step - loss: 0.4561 - acc: 0.7785 - val_loss: 67.7161 - val_acc: 0.6840\n",
      "Epoch 9/30\n",
      "100/100 [==============================] - 75s 755ms/step - loss: 0.4210 - acc: 0.8040 - val_loss: 196.8722 - val_acc: 0.6550\n",
      "Epoch 10/30\n",
      "100/100 [==============================] - 77s 767ms/step - loss: 0.3955 - acc: 0.8195 - val_loss: 52.3724 - val_acc: 0.7020\n",
      "Epoch 11/30\n",
      "100/100 [==============================] - 70s 704ms/step - loss: 0.3823 - acc: 0.8330 - val_loss: 131.7327 - val_acc: 0.7010\n",
      "Epoch 12/30\n",
      "100/100 [==============================] - 70s 698ms/step - loss: 0.3452 - acc: 0.8485 - val_loss: 74.9383 - val_acc: 0.6660\n",
      "Epoch 13/30\n",
      "100/100 [==============================] - 71s 710ms/step - loss: 0.3219 - acc: 0.8615 - val_loss: 126.4625 - val_acc: 0.7040\n",
      "Epoch 14/30\n",
      "100/100 [==============================] - 72s 720ms/step - loss: 0.2890 - acc: 0.8760 - val_loss: 94.7042 - val_acc: 0.6830\n",
      "Epoch 15/30\n",
      "100/100 [==============================] - 69s 694ms/step - loss: 0.2808 - acc: 0.8885 - val_loss: 183.5055 - val_acc: 0.6990\n",
      "Epoch 16/30\n",
      "100/100 [==============================] - 70s 697ms/step - loss: 0.2499 - acc: 0.9015 - val_loss: 140.4940 - val_acc: 0.6980\n",
      "Epoch 17/30\n",
      "100/100 [==============================] - 70s 703ms/step - loss: 0.2217 - acc: 0.9160 - val_loss: 251.6812 - val_acc: 0.6800\n",
      "Epoch 18/30\n",
      "100/100 [==============================] - 69s 690ms/step - loss: 0.2043 - acc: 0.9165 - val_loss: 127.7505 - val_acc: 0.7130\n",
      "Epoch 19/30\n",
      "100/100 [==============================] - 70s 703ms/step - loss: 0.1844 - acc: 0.9295 - val_loss: 294.4096 - val_acc: 0.6790\n",
      "Epoch 20/30\n",
      "100/100 [==============================] - 69s 692ms/step - loss: 0.1577 - acc: 0.9525 - val_loss: 258.4529 - val_acc: 0.6880\n",
      "Epoch 21/30\n",
      "100/100 [==============================] - 68s 683ms/step - loss: 0.1391 - acc: 0.9550 - val_loss: 310.5832 - val_acc: 0.6810\n",
      "Epoch 22/30\n",
      "100/100 [==============================] - 70s 697ms/step - loss: 0.1227 - acc: 0.9575 - val_loss: 252.8570 - val_acc: 0.6860\n",
      "Epoch 23/30\n",
      "100/100 [==============================] - 70s 697ms/step - loss: 0.1145 - acc: 0.9655 - val_loss: 234.4440 - val_acc: 0.6900\n",
      "Epoch 24/30\n",
      "100/100 [==============================] - 70s 698ms/step - loss: 0.0969 - acc: 0.9700 - val_loss: 210.2151 - val_acc: 0.7030\n",
      "Epoch 25/30\n",
      "100/100 [==============================] - 69s 692ms/step - loss: 0.0805 - acc: 0.9755 - val_loss: 176.6700 - val_acc: 0.7040\n",
      "Epoch 26/30\n",
      "100/100 [==============================] - 69s 691ms/step - loss: 0.0708 - acc: 0.9775 - val_loss: 111.6089 - val_acc: 0.6880\n",
      "Epoch 27/30\n",
      "100/100 [==============================] - 74s 744ms/step - loss: 0.0543 - acc: 0.9870 - val_loss: 253.4684 - val_acc: 0.6960\n",
      "Epoch 28/30\n",
      "100/100 [==============================] - 69s 693ms/step - loss: 0.0486 - acc: 0.9870 - val_loss: 341.1839 - val_acc: 0.7060\n",
      "Epoch 29/30\n",
      "100/100 [==============================] - 69s 691ms/step - loss: 0.0396 - acc: 0.9905 - val_loss: 6.0557 - val_acc: 0.7030\n",
      "Epoch 30/30\n",
      "100/100 [==============================] - 69s 695ms/step - loss: 0.0397 - acc: 0.9900 - val_loss: 203.1029 - val_acc: 0.6920\n"
     ]
    }
   ],
   "source": [
    "history = model.fit_generator(\n",
    "    train_generator,\n",
    "    steps_per_epoch=100,\n",
    "    epochs=30,\n",
    "    validation_data=validation_generator,\n",
    "    validation_steps=50)"
   ]
  },
  {
   "cell_type": "code",
   "execution_count": 7,
   "metadata": {},
   "outputs": [],
   "source": [
    "model.save('cats_and_dogs_small_1.h5') # Сохранение модели"
   ]
  },
  {
   "cell_type": "code",
   "execution_count": 9,
   "metadata": {},
   "outputs": [
    {
     "data": {
      "image/png": "[encoded data removed]",
      "text/plain": [
       "<Figure size 432x288 with 1 Axes>"
      ]
     },
     "metadata": {
      "needs_background": "light"
     },
     "output_type": "display_data"
    },
    {
     "data": {
      "image/png": "[encoded data removed]",
      "text/plain": [
       "<Figure size 432x288 with 1 Axes>"
      ]
     },
     "metadata": {
      "needs_background": "light"
     },
     "output_type": "display_data"
    }
   ],
   "source": [
    "# Строим графики\n",
    "import matplotlib.pyplot as plt\n",
    "\n",
    "acc = history.history['acc']\n",
    "val_acc = history.history['val_acc']\n",
    "loss = history.history['loss']\n",
    "val_loss = history.history['val_loss']\n",
    "\n",
    "epochs = range(1, len(acc) + 1)\n",
    "plt.plot(epochs, acc, 'bo', label='Training acc')\n",
    "plt.plot(epochs, val_acc, 'b', label='Validation acc')\n",
    "plt.title('Training and validation acc')\n",
    "plt.legend()\n",
    "\n",
    "plt.figure()\n",
    "plt.plot(epochs, loss, 'bo', label='Training loss')\n",
    "# plt.plot(epochs, val_loss, 'b', label='Validation loss') # неверные границы\n",
    "plt.title('Training and validation loss')\n",
    "plt.legend()\n",
    "\n",
    "plt.show()"
   ]
  }
 ],
 "metadata": {
  "kernelspec": {
   "display_name": "Python 3",
   "language": "python",
   "name": "python3"
  },
  "language_info": {
   "codemirror_mode": {
    "name": "ipython",
    "version": 3
   },
   "file_extension": ".py",
   "mimetype": "text/x-python",
   "name": "python",
   "nbconvert_exporter": "python",
   "pygments_lexer": "ipython3",
   "version": "3.8.5"
  }
 },
 "nbformat": 4,
 "nbformat_minor": 4
}
