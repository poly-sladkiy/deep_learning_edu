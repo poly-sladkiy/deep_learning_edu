{
 "cells": [
  {
   "cell_type": "code",
   "execution_count": 1,
   "metadata": {},
   "outputs": [],
   "source": [
    "# Копирование изображений в обучающий,\n",
    "#  проверочный и контрольный каталоги\n",
    "import os, shutil"
   ]
  },
  {
   "cell_type": "code",
   "execution_count": 11,
   "metadata": {},
   "outputs": [],
   "source": [
    "# Путь к каталогу с распакованным исходным набором данных\n",
    "DATASET_DIR = '/Users/admin/Documents/Learn python/deep_learning_edu/Chapter 5/train'\n",
    "\n",
    "BASE_DIR = '/Users/admin/Documents/Learn python/deep_learning_edu/Chapter 5/cats_and_dogs_small'\n",
    "os.mkdir(BASE_DIR)"
   ]
  },
  {
   "cell_type": "code",
   "execution_count": 3,
   "metadata": {},
   "outputs": [],
   "source": [
    "'''\n",
    "    Каталоги для обучающего,\n",
    "    проверочного и контрольного\n",
    "    поднаборов\n",
    "'''\n",
    "\n",
    "TRAIN_DIR = os.path.join(BASE_DIR, 'train/')\n",
    "os.mkdir(TRAIN_DIR)\n",
    "VALIDATION_DIR = os.path.join(BASE_DIR, 'validation/')\n",
    "os.mkdir(VALIDATION_DIR)\n",
    "TEST_DIR = os.path.join(BASE_DIR, 'test/')\n",
    "os.mkdir(TEST_DIR)"
   ]
  },
  {
   "cell_type": "code",
   "execution_count": 4,
   "metadata": {},
   "outputs": [],
   "source": [
    "# Каталог с обучающими изображениями\n",
    "TRAIN_CATS_DIR = os.path.join(TRAIN_DIR, 'cats')\n",
    "os.mkdir(TRAIN_CATS_DIR)\n",
    "\n",
    "TRAIN_DOGS_DIR = os.path.join(TRAIN_DIR, 'dogs')\n",
    "os.mkdir(TRAIN_DOGS_DIR)"
   ]
  },
  {
   "cell_type": "code",
   "execution_count": 5,
   "metadata": {},
   "outputs": [],
   "source": [
    "# Каталог с проверочными изображениями\n",
    "VALIDATION_CATS_DIR = os.path.join(VALIDATION_DIR, 'cats')\n",
    "os.mkdir(VALIDATION_CATS_DIR)\n",
    "\n",
    "VALIDATION_DOGS_DIR = os.path.join(VALIDATION_DIR, 'dogs')\n",
    "os.mkdir(VALIDATION_DOGS_DIR)"
   ]
  },
  {
   "cell_type": "code",
   "execution_count": 6,
   "metadata": {},
   "outputs": [],
   "source": [
    "# Каталог с контрольными изображениями\n",
    "TEST_CATS_DIR = os.path.join(TEST_DIR, 'cats')\n",
    "os.mkdir(TEST_CATS_DIR)\n",
    "\n",
    "TEST_DOGS_DIR = os.path.join(TEST_DIR, 'dogs')\n",
    "os.mkdir(TEST_DOGS_DIR)"
   ]
  },
  {
   "cell_type": "code",
   "execution_count": 12,
   "metadata": {},
   "outputs": [],
   "source": [
    "# Копирование изображений кошек в соответствующие файлы\n",
    "fnames = ['cat.{}.jpg'.format(i) for i in range(1000)]\n",
    "for fname in fnames:\n",
    "    src = os.path.join(DATASET_DIR, fname)\n",
    "    dst = os.path.join(TRAIN_CATS_DIR, fname)\n",
    "    shutil.copyfile(src, dst)\n",
    "    \n",
    "fnames = ['cat.{}.jpg'.format(i) for i in range(1000, 1500)]\n",
    "for fname in fnames:\n",
    "    src = os.path.join(DATASET_DIR, fname)\n",
    "    dst = os.path.join(VALIDATION_CATS_DIR, fname)\n",
    "    shutil.copyfile(src, dst)\n",
    "    \n",
    "fnames = ['cat.{}.jpg'.format(i) for i in range(1500, 2000)]\n",
    "for fname in fnames:\n",
    "    src = os.path.join(DATASET_DIR, fname)\n",
    "    dst = os.path.join(TEST_CATS_DIR, fname)\n",
    "    shutil.copyfile(src, dst)"
   ]
  },
  {
   "cell_type": "code",
   "execution_count": 13,
   "metadata": {},
   "outputs": [],
   "source": [
    "# Копирование изображений собак в соответствующие файлы\n",
    "fnames = ['dog.{}.jpg'.format(i) for i in range(1000)]\n",
    "for fname in fnames:\n",
    "    src = os.path.join(DATASET_DIR, fname)\n",
    "    dst = os.path.join(TRAIN_DOGS_DIR, fname)\n",
    "    shutil.copyfile(src, dst)\n",
    "    \n",
    "fnames = ['dog.{}.jpg'.format(i) for i in range(1000, 1500)]\n",
    "for fname in fnames:\n",
    "    src = os.path.join(DATASET_DIR, fname)\n",
    "    dst = os.path.join(VALIDATION_DOGS_DIR, fname)\n",
    "    shutil.copyfile(src, dst)\n",
    "    \n",
    "fnames = ['dog.{}.jpg'.format(i) for i in range(1500, 2000)]\n",
    "for fname in fnames:\n",
    "    src = os.path.join(DATASET_DIR, fname)\n",
    "    dst = os.path.join(TEST_DOGS_DIR, fname)\n",
    "    shutil.copyfile(src, dst)"
   ]
  }
 ],
 "metadata": {
  "kernelspec": {
   "display_name": "Python 3",
   "language": "python",
   "name": "python3"
  },
  "language_info": {
   "codemirror_mode": {
    "name": "ipython",
    "version": 3
   },
   "file_extension": ".py",
   "mimetype": "text/x-python",
   "name": "python",
   "nbconvert_exporter": "python",
   "pygments_lexer": "ipython3",
   "version": "3.8.5"
  }
 },
 "nbformat": 4,
 "nbformat_minor": 4
}
